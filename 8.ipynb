{
 "cells": [
  {
   "cell_type": "code",
   "execution_count": 1,
   "id": "02939bbc",
   "metadata": {},
   "outputs": [],
   "source": [
    "import numpy as np"
   ]
  },
  {
   "cell_type": "code",
   "execution_count": 9,
   "id": "26110043",
   "metadata": {},
   "outputs": [],
   "source": [
    "X = np.array(([2, 9], [1, 5], [3, 6]), dtype=float)\n",
    "y = np.array(([92], [86], [89]), dtype=float)\n",
    "X = X/np.amax(X,axis=0) # maximum of X array longitudinally\n",
    "y = y/100"
   ]
  },
  {
   "cell_type": "code",
   "execution_count": 10,
   "id": "3cf42338",
   "metadata": {},
   "outputs": [],
   "source": [
    "\n",
    "#sigmoid function\n",
    "def sigmoid(x):\n",
    "    return 1.0/(1.0 + np.exp(-x))\n",
    "\n",
    "#derivative of sigmoid function\n",
    "def derivatives_sigmoid(x):\n",
    "    return x*(1-x)\n"
   ]
  },
  {
   "cell_type": "code",
   "execution_count": 11,
   "id": "28e21fe3",
   "metadata": {},
   "outputs": [],
   "source": [
    "# varaiable initialization\n",
    "epoch=5\n",
    "lr=0.1\n",
    "inputlayer_neurons=2\n",
    "hiddenlayer_neurons=3\n",
    "output_neurons=1"
   ]
  },
  {
   "cell_type": "code",
   "execution_count": 12,
   "id": "f2ffd7ac",
   "metadata": {},
   "outputs": [],
   "source": [
    "#weight and bias initialization\n",
    "wh=np.random.uniform(size=(inputlayer_neurons,hiddenlayer_neurons))\n",
    "bh=np.random.uniform(size=(1,hiddenlayer_neurons))\n",
    "wout=np.random.uniform(size=(hiddenlayer_neurons,output_neurons))\n",
    "bout=np.random.uniform(size=(1,output_neurons))"
   ]
  },
  {
   "cell_type": "code",
   "execution_count": 15,
   "id": "ef9309ad",
   "metadata": {},
   "outputs": [],
   "source": [
    "#draws a random range of numbers uniformly of dim x*y\n",
    "for i in range(epoch):\n",
    "    \n",
    "#Forward Propogation\n",
    "    hinp1=np.dot(X,wh)\n",
    "    hinp=hinp1 + bh\n",
    "    hlayer_act = sigmoid(hinp)\n",
    "    outinp1=np.dot(hlayer_act,wout)\n",
    "    outinp= outinp1+ bout\n",
    "    output = sigmoid(outinp)\n",
    "    \n",
    "#Backpropagation\n",
    "    EO = y-output\n",
    "    outgrad = derivatives_sigmoid(output)\n",
    "    d_output = EO* outgrad\n",
    "    EH = d_output.dot(wout.T)\n",
    "\n",
    "#how much hidden layer wts contributed to error\n",
    "    hiddengrad = derivatives_sigmoid(hlayer_act)\n",
    "    d_hiddenlayer = EH * hiddengrad\n",
    "    \n",
    "# dotproduct of nextlayererror and currentlayerop\n",
    "    wout += hlayer_act.T.dot(d_output) *lr\n",
    "    wh += X.T.dot(d_hiddenlayer) *lr"
   ]
  },
  {
   "cell_type": "code",
   "execution_count": 16,
   "id": "650c7ab0",
   "metadata": {},
   "outputs": [
    {
     "name": "stdout",
     "output_type": "stream",
     "text": [
      "Input: \n",
      "[[0.66666667 1.        ]\n",
      " [0.33333333 0.55555556]\n",
      " [1.         0.66666667]]\n",
      "Actual Output: \n",
      "[[0.92]\n",
      " [0.86]\n",
      " [0.89]]\n",
      "Predicted Output: \n",
      " [[0.75834179]\n",
      " [0.74439483]\n",
      " [0.75540308]]\n"
     ]
    }
   ],
   "source": [
    "print(\"Input: \\n\" + str(X))\n",
    "print(\"Actual Output: \\n\" + str(y))\n",
    "print(\"Predicted Output: \\n\" ,output)"
   ]
  },
  {
   "cell_type": "code",
   "execution_count": null,
   "id": "7068b37e",
   "metadata": {},
   "outputs": [],
   "source": []
  }
 ],
 "metadata": {
  "kernelspec": {
   "display_name": "Python 3 (ipykernel)",
   "language": "python",
   "name": "python3"
  },
  "language_info": {
   "codemirror_mode": {
    "name": "ipython",
    "version": 3
   },
   "file_extension": ".py",
   "mimetype": "text/x-python",
   "name": "python",
   "nbconvert_exporter": "python",
   "pygments_lexer": "ipython3",
   "version": "3.9.4"
  }
 },
 "nbformat": 4,
 "nbformat_minor": 5
}
