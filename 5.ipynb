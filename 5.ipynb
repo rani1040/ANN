{
 "cells": [
  {
   "cell_type": "markdown",
   "id": "95f2c766",
   "metadata": {},
   "source": [
    " # program to implement delta rule\n",
    " 1. back propogation\n",
    " 2. refines the model\n",
    " 3. make associations between inputs and outputs with different layers of artificial neuron\n",
    " 4. re claculation input weights\n",
    " 5. utilites gradient descent\n",
    " \n",
    "    mathematical equation\n",
    "    \n",
    "    "
   ]
  },
  {
   "cell_type": "code",
   "execution_count": 66,
   "id": "ed232788",
   "metadata": {},
   "outputs": [],
   "source": [
    "import numpy as np\n",
    "import pandas as pd\n",
    "from sklearn.model_selection import train_test_split"
   ]
  },
  {
   "cell_type": "code",
   "execution_count": 73,
   "id": "86bdf2ce",
   "metadata": {},
   "outputs": [],
   "source": [
    "class PERCEPTRON:\n",
    "    def __init__(self):\n",
    "        self.weights=[]\n",
    "    \n",
    "    def activation(self,data):\n",
    "        activation_val=np.dot(self.weights,data)\n",
    "        return 1 if activation_val>=0 else 0\n",
    "    \n",
    "    def fit(self,x,y,lrate,epochs):\n",
    "        #initialize weight vector\n",
    "        self.weights=[0.0 for i in range(len(x.columns))]\n",
    "        #no. of iterations to train the neural network\n",
    "        for epoch in range(epochs):\n",
    "            print(str(epoch+1),'epoch has started')\n",
    "            for index in range(len(x)):\n",
    "                temp=x.iloc[index]\n",
    "                predicted=self.activation(temp)\n",
    "                if y.iloc[index]==predicted:\n",
    "                    pass\n",
    "                else:\n",
    "                    # calculate the error value\n",
    "                    error=y.iloc[index]-predicted\n",
    "                        \n",
    "                    #updatation of associated self.weights according to delta rule\n",
    "                    for j in range(len(temp)):\n",
    "                        self.weights[j]=self.weights[j]+lrate*error*temp[j]\n",
    "                        \n",
    "    def predict(self,x_test):\n",
    "        predicted=[]\n",
    "        for i in range(len(x_test)):\n",
    "            #prediction for test-set using obtained weights\n",
    "            predicted.append(self.activation(x_test.iloc[i]))\n",
    "        return predicted\n",
    "    \n",
    "    def accuracy(self,predicted,original):\n",
    "        correct=0\n",
    "        lent=len(predicted)\n",
    "        for i in range(lent):\n",
    "            if predicted[i]==original.iloc[i]:\n",
    "                correct+=1\n",
    "        return (correct/lent)*100\n",
    "    \n",
    "    def get_weights(self):\n",
    "        return self.weights\n",
    "    \n",
    "    "
   ]
  },
  {
   "cell_type": "code",
   "execution_count": 74,
   "id": "95ebda9b",
   "metadata": {},
   "outputs": [],
   "source": [
    "obj=PERCEPTRON()\n",
    "df=pd.read_csv('csv/Iris.csv')\n",
    "df.columns=[\"petal_length\",\"petal_width\",\"sepal_length\",\"sepal_width\",\"class\"]\n",
    "y=df['class']\n",
    "x=df.drop(columns='class')"
   ]
  },
  {
   "cell_type": "code",
   "execution_count": 75,
   "id": "e35f56d4",
   "metadata": {},
   "outputs": [],
   "source": [
    "train_x,test_x,train_y,test_y=train_test_split(x,y)"
   ]
  },
  {
   "cell_type": "code",
   "execution_count": 76,
   "id": "ea5f0476",
   "metadata": {},
   "outputs": [
    {
     "name": "stdout",
     "output_type": "stream",
     "text": [
      "1 epoch has started\n",
      "2 epoch has started\n",
      "3 epoch has started\n",
      "4 epoch has started\n",
      "5 epoch has started\n",
      "6 epoch has started\n",
      "7 epoch has started\n",
      "8 epoch has started\n",
      "9 epoch has started\n",
      "10 epoch has started\n"
     ]
    }
   ],
   "source": [
    "obj.fit(train_x,train_y,0.5,10)\n",
    "pred_y=obj.predict(test_x)"
   ]
  },
  {
   "cell_type": "code",
   "execution_count": 77,
   "id": "16ce0617",
   "metadata": {},
   "outputs": [
    {
     "name": "stdout",
     "output_type": "stream",
     "text": [
      "accuracy 100.0\n",
      "weights [-0.9499999999999997, -2.9000000000000004, 4.75, 2.45]\n"
     ]
    }
   ],
   "source": [
    "print('accuracy',obj.accuracy(pred_y,test_y))\n",
    "print('weights',obj.get_weights())"
   ]
  },
  {
   "cell_type": "code",
   "execution_count": null,
   "id": "6668badc",
   "metadata": {},
   "outputs": [],
   "source": []
  },
  {
   "cell_type": "code",
   "execution_count": null,
   "id": "5998a651",
   "metadata": {},
   "outputs": [],
   "source": []
  }
 ],
 "metadata": {
  "kernelspec": {
   "display_name": "Python 3 (ipykernel)",
   "language": "python",
   "name": "python3"
  },
  "language_info": {
   "codemirror_mode": {
    "name": "ipython",
    "version": 3
   },
   "file_extension": ".py",
   "mimetype": "text/x-python",
   "name": "python",
   "nbconvert_exporter": "python",
   "pygments_lexer": "ipython3",
   "version": "3.9.4"
  }
 },
 "nbformat": 4,
 "nbformat_minor": 5
}
