{
 "cells": [
  {
   "cell_type": "code",
   "execution_count": 1,
   "id": "6b95513b",
   "metadata": {},
   "outputs": [],
   "source": [
    "#write a program to implement Hebb"
   ]
  },
  {
   "cell_type": "code",
   "execution_count": 2,
   "id": "6a28be7b",
   "metadata": {},
   "outputs": [],
   "source": [
    "import numpy as np"
   ]
  },
  {
   "cell_type": "code",
   "execution_count": 27,
   "id": "e1934ddb",
   "metadata": {},
   "outputs": [],
   "source": [
    "e=[1,1,1,1,1,-1,-1,-1,1,1,-1,1,1,-1,-1,-1,1,1,1,1]\n",
    "f=[1,1,1,1,1,-1,-1,-1,1,1,1,1,1,-1,-1,-1,1,-1,-1,-1]\n",
    "w=[0,0,0,0,0,0,0,0,0,0,0,0,0,0,0,0,0,0,0,0]\n",
    "t=[1,-1]\n",
    "b=0\n",
    "alpha=0.1\n",
    "we=[]"
   ]
  },
  {
   "cell_type": "code",
   "execution_count": 28,
   "id": "c88a0c6e",
   "metadata": {},
   "outputs": [],
   "source": [
    "for i in range(0,20):\n",
    "    d=w[i]+e[i]*t[0]+f[i]*t[1]\n",
    "    b=b+t[0]+t[1]\n",
    "    we.append(d)"
   ]
  },
  {
   "cell_type": "code",
   "execution_count": 29,
   "id": "ea267bbc",
   "metadata": {},
   "outputs": [
    {
     "data": {
      "text/plain": [
       "[0, 0, 0, 0, 0, 0, 0, 0, 0, 0, -2, 0, 0, 0, 0, 0, 0, 2, 2, 2]"
      ]
     },
     "execution_count": 29,
     "metadata": {},
     "output_type": "execute_result"
    }
   ],
   "source": [
    "we"
   ]
  },
  {
   "cell_type": "code",
   "execution_count": 32,
   "id": "789e7813",
   "metadata": {},
   "outputs": [
    {
     "name": "stdout",
     "output_type": "stream",
     "text": [
      "1\n",
      "-1\n"
     ]
    }
   ],
   "source": [
    "E=np.array(e)\n",
    "W=np.array(we)\n",
    "ff=np.array(f)\n",
    "ypre=np.dot(W,E.T)\n",
    "if ypre>=0:\n",
    "    pred=1\n",
    "else:\n",
    "    pred=-1\n",
    "print(pred)\n",
    "ypre=np.dot(W,ff.T)\n",
    "if ypre>0:\n",
    "    pred=1\n",
    "else:\n",
    "    pred=-1\n",
    "print(pred)"
   ]
  },
  {
   "cell_type": "code",
   "execution_count": null,
   "id": "eb28ebba",
   "metadata": {},
   "outputs": [],
   "source": []
  }
 ],
 "metadata": {
  "kernelspec": {
   "display_name": "Python 3 (ipykernel)",
   "language": "python",
   "name": "python3"
  },
  "language_info": {
   "codemirror_mode": {
    "name": "ipython",
    "version": 3
   },
   "file_extension": ".py",
   "mimetype": "text/x-python",
   "name": "python",
   "nbconvert_exporter": "python",
   "pygments_lexer": "ipython3",
   "version": "3.9.4"
  }
 },
 "nbformat": 4,
 "nbformat_minor": 5
}
