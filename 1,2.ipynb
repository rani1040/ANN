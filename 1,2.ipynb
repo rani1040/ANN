{
 "cells": [
  {
   "cell_type": "code",
   "execution_count": 2,
   "metadata": {},
   "outputs": [
    {
     "name": "stdout",
     "output_type": "stream",
     "text": [
      "Enter number : 456\n",
      "value of yin and t is 1 -1\n",
      "values of b w1 w2 w3 w4 -1 1 1 1 1\n",
      "value of yin and t is -1 1\n",
      "values of b w1 w2 w3 w4 0 0 0 0 2\n",
      "net value 0\n",
      "Number is even\n"
     ]
    }
   ],
   "source": [
    "# odd/even  #exp1\n",
    "def eo(x):\n",
    "    alpha=1\n",
    "    b,w1,w2,w3,w4=0,0,0,0,0\n",
    "    x1=[-1,-1,-1,-1,-1,-1,-1,-1,1,1]\n",
    "    x2=[-1,-1,-1,-1,1,1,1,1,-1,-1]\n",
    "    x3=[-1,-1,1,1,-1,-1,1,1,-1,-1]\n",
    "    x4=[-1,1,-1,1,-1,1,-1,1,-1,1]\n",
    "    t=[-1,1,-1,1,-1,1,-1,1,-1,1]\n",
    "    i=0\n",
    "    yin=b+x1[0]*w1+x2[0]*w2+x3[0]*w3+x4[0]*w4\n",
    "    if yin>=0:\n",
    "        yin=1\n",
    "    else:\n",
    "        yin=-1\n",
    "    while(yin!=t[i]):\n",
    "        print(\"value of yin and t is\", yin, t[i])\n",
    "        b+=alpha*t[i];\n",
    "        w1+=alpha*x1[i]*t[i]\n",
    "        w2+=alpha*x2[i]*t[i]\n",
    "        w3+=alpha*x3[i]*t[i]\n",
    "        w4+=alpha*x4[i]*t[i]\n",
    "        print(\"values of b w1 w2 w3 w4\", b,w1,w2,w3,w4)\n",
    "        i+=1\n",
    "        yin=b+x1[0]*w1+x2[0]*w2+x3[0]*w3+x4[0]*w4\n",
    "        if yin>=0:\n",
    "            yin=1\n",
    "        else:\n",
    "            yin=-1\n",
    "\n",
    "        y=x%10\n",
    "        k=0\n",
    "        if y==0:\n",
    "            bina=[0,0,0,0]\n",
    "        else:\n",
    "            bina=[0,0,0,0]\n",
    "            while y!=0:\n",
    "                bina[k]=y%2\n",
    "                y=int(y/2)\n",
    "                k+=1\n",
    "    net=b+bina[3]*w1+bina[2]*w2+bina[1]*w3+bina[0]*w4\n",
    "    print(\"net value\",net)\n",
    "    if net >0:\n",
    "        print(\"Number is odd\")\n",
    "    else:\n",
    "        print(\"Number is even\")\n",
    "    \n",
    "eo(int(input(\"Enter number : \")))"
   ]
  },
  {
   "cell_type": "code",
   "execution_count": 8,
   "metadata": {},
   "outputs": [
    {
     "name": "stdout",
     "output_type": "stream",
     "text": [
      "Enter w1 : -1\n",
      "Enter w2 : 1\n",
      "Enter bias : 1\n",
      "bias,w1,w2 -1.0 1.0 -1.0\n",
      "yin [1, -1, 1, -1]\n",
      "bias,w1,w2 -3.0 3.0 1.0\n",
      "yin [-1, 1, 1, -1]\n",
      "bias,w1,w2 -3.0 3.0 1.0\n",
      "yin [1, -1, -1, -1]\n"
     ]
    }
   ],
   "source": [
    "#final and gate  #exp2(a)\n",
    "def AND_Gate(w1,w2,bias):\n",
    "    alpha=1\n",
    "    yin=[]\n",
    "    x1=[1,1,-1,-1]\n",
    "    x2=[1,-1,1,-1]\n",
    "    t=[1,-1,-1,-1]\n",
    "    ite=1\n",
    "    while (t!=yin):\n",
    "        \n",
    "        yin=[]\n",
    "        for i in range(4):\n",
    "            y=bias+x1[i]*w1+x2[i]*w2\n",
    "            if y>=1:\n",
    "                o=1\n",
    "            else:\n",
    "                o=-1\n",
    "            yin.append(o)\n",
    "            w1=w1+alpha*(t[i]-o)*x1[i]\n",
    "            w2=w2+alpha*(t[i]-o)*x2[i]\n",
    "            bias=bias+alpha*(t[i]-o)\n",
    "        print(\"bias,w1,w2\",bias,w1,w2)\n",
    "        ite=ite+1\n",
    "        print(\"yin\",yin)\n",
    "    \n",
    "\n",
    "    \n",
    "w1=float(input(\"Enter w1 : \"))\n",
    "w2=float(input(\"Enter w2 : \"))\n",
    "bias=float(input(\"Enter bias : \"))\n",
    "AND_Gate(w1,w2,bias)"
   ]
  },
  {
   "cell_type": "code",
   "execution_count": 1,
   "metadata": {},
   "outputs": [
    {
     "name": "stdout",
     "output_type": "stream",
     "text": [
      "Enter w1 : 1\n",
      "Enter w2 : -1\n",
      "Enter bias : 1\n",
      "bias,w1,w2 1.0 1.0 3.0\n",
      "yin [1, 1, -1, 1]\n",
      "bias,w1,w2 3.0 3.0 1.0\n",
      "yin [1, -1, 1, -1]\n",
      "bias,w1,w2 3.0 3.0 1.0\n",
      "yin [1, 1, 1, -1]\n"
     ]
    }
   ],
   "source": [
    "#final or gate  #exp2(b)\n",
    "def or_gate(w1,w2,bias):\n",
    "    alpha=1\n",
    "    yin=[]\n",
    "    \n",
    "    x1=[1,1,-1,-1]\n",
    "    x2=[1,-1,1,-1]\n",
    "    t=[1,1,1,-1]\n",
    "    ite=1\n",
    "    while (t!=yin):\n",
    "        #print(\"yin\",yin)\n",
    "        yin=[]\n",
    "        for i in range(4):\n",
    "            y=bias+x1[i]*w1+x2[i]*w2\n",
    "            if y>=1:\n",
    "                o=1\n",
    "            else:\n",
    "                o=-1\n",
    "            yin.append(o)\n",
    "            w1=w1+alpha*(t[i]-o)*x1[i]\n",
    "            w2=w2+alpha*(t[i]-o)*x2[i]\n",
    "            bias=bias+alpha*(t[i]-o)\n",
    "        print(\"bias,w1,w2\",bias,w1,w2)\n",
    "        ite=ite+1\n",
    "        print(\"yin\",yin)\n",
    "\n",
    "    \n",
    "w1=float(input(\"Enter w1 : \"))\n",
    "w2=float(input(\"Enter w2 : \"))\n",
    "bias=float(input(\"Enter bias : \"))\n",
    "or_gate(w1,w2,bias)"
   ]
  },
  {
   "cell_type": "code",
   "execution_count": null,
   "metadata": {},
   "outputs": [],
   "source": []
  }
 ],
 "metadata": {
  "kernelspec": {
   "display_name": "Python 3 (ipykernel)",
   "language": "python",
   "name": "python3"
  },
  "language_info": {
   "codemirror_mode": {
    "name": "ipython",
    "version": 3
   },
   "file_extension": ".py",
   "mimetype": "text/x-python",
   "name": "python",
   "nbconvert_exporter": "python",
   "pygments_lexer": "ipython3",
   "version": "3.9.4"
  },
  "vscode": {
   "interpreter": {
    "hash": "a270aafb7c70f954087a490482fe1ff5450ed3986ebd3c222f2847c3a3dc1c1d"
   }
  }
 },
 "nbformat": 4,
 "nbformat_minor": 2
}
